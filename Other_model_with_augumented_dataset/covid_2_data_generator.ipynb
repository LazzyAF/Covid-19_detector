{
 "cells": [
  {
   "cell_type": "code",
   "execution_count": 1,
   "metadata": {},
   "outputs": [],
   "source": [
    "import numpy as np\n",
    "import matplotlib.pyplot as plt\n",
    "\n",
    "import tensorflow as tf\n",
    "from tensorflow import keras\n",
    "from tensorflow.keras.layers import *\n",
    "from tensorflow.keras.models import *\n",
    "from tensorflow.keras.preprocessing import image\n",
    "import os\n",
    "import seaborn as sns\n",
    "from sklearn.metrics import confusion_matrix\n",
    "import random\n"
   ]
  },
  {
   "cell_type": "code",
   "execution_count": 2,
   "metadata": {},
   "outputs": [],
   "source": [
    "Train_path = 'CovidDataset/Train'\n",
    "Val_path = 'CovidDataset/val'"
   ]
  },
  {
   "cell_type": "code",
   "execution_count": 3,
   "metadata": {},
   "outputs": [],
   "source": [
    "datagen = image.ImageDataGenerator(\n",
    "                    rescale = 1./255,\n",
    "                    shear_range = 0.2,\n",
    "                    zoom_range = 0.2,\n",
    "                    horizontal_flip = True,\n",
    "                    \n",
    ")"
   ]
  },
  {
   "cell_type": "markdown",
   "metadata": {},
   "source": [
    "# Data augumentation to create more covid data\n"
   ]
  },
  {
   "cell_type": "code",
   "execution_count": 4,
   "metadata": {},
   "outputs": [],
   "source": [
    "directory = \"CovidDataset/val/Covid/\"\n",
    "\n",
    "for filename in os.listdir(directory):\n",
    "    #img = image.load_img(\"CovidDataset/Train/Covid/01E392EE-69F9-4E33-BFCE-E5C968654078.jpeg\")\n",
    "    path = os.path.join(directory,filename)\n",
    "    img = image.load_img(path)\n",
    "    x = image.img_to_array(img)\n",
    "    x = x.reshape((1,) + x.shape)\n",
    "\n",
    "    i = 0\n",
    "    for batch in datagen.flow(x, batch_size = 1, save_to_dir = 'CovidDataset/val/Covid', save_prefix = 'Covid' + str(i), save_format = 'jpg'):\n",
    "        i = i +1\n",
    "        if i >=5:\n",
    "            break"
   ]
  },
  {
   "cell_type": "code",
   "execution_count": 5,
   "metadata": {},
   "outputs": [],
   "source": [
    "KAGGLE_PATH = 'NORMAL'\n",
    "TARGET_NORMAL_DIR = 'CovidDataset/Train/Normal'\n",
    "image_names = os.listdir(KAGGLE_PATH)"
   ]
  },
  {
   "cell_type": "code",
   "execution_count": 16,
   "metadata": {},
   "outputs": [],
   "source": [
    "##copying normal images from KAGGLE to training path"
   ]
  },
  {
   "cell_type": "code",
   "execution_count": 7,
   "metadata": {},
   "outputs": [
    {
     "name": "stdout",
     "output_type": "stream",
     "text": [
      "copying images...\n"
     ]
    },
    {
     "ename": "IndexError",
     "evalue": "list index out of range",
     "output_type": "error",
     "traceback": [
      "\u001b[1;31m---------------------------------------------------------------------------\u001b[0m",
      "\u001b[1;31mIndexError\u001b[0m                                Traceback (most recent call last)",
      "\u001b[1;32m<ipython-input-7-50b5be28f479>\u001b[0m in \u001b[0;36m<module>\u001b[1;34m\u001b[0m\n\u001b[0;32m      3\u001b[0m \u001b[0mprint\u001b[0m\u001b[1;33m(\u001b[0m\u001b[1;34m'copying images...'\u001b[0m\u001b[1;33m)\u001b[0m\u001b[1;33m\u001b[0m\u001b[1;33m\u001b[0m\u001b[0m\n\u001b[0;32m      4\u001b[0m \u001b[1;32mfor\u001b[0m \u001b[0mi\u001b[0m \u001b[1;32min\u001b[0m \u001b[0mrange\u001b[0m\u001b[1;33m(\u001b[0m\u001b[0mlen\u001b[0m\u001b[1;33m(\u001b[0m\u001b[0mos\u001b[0m\u001b[1;33m.\u001b[0m\u001b[0mlistdir\u001b[0m\u001b[1;33m(\u001b[0m\u001b[1;34m'CovidDataset/Train/Covid'\u001b[0m\u001b[1;33m)\u001b[0m\u001b[1;33m)\u001b[0m\u001b[1;33m)\u001b[0m\u001b[1;33m:\u001b[0m\u001b[1;33m\u001b[0m\u001b[1;33m\u001b[0m\u001b[0m\n\u001b[1;32m----> 5\u001b[1;33m     \u001b[0mimage_name\u001b[0m \u001b[1;33m=\u001b[0m \u001b[0mimage_names\u001b[0m\u001b[1;33m[\u001b[0m\u001b[0mi\u001b[0m\u001b[1;33m]\u001b[0m\u001b[1;33m\u001b[0m\u001b[1;33m\u001b[0m\u001b[0m\n\u001b[0m\u001b[0;32m      6\u001b[0m     \u001b[0mimage_path\u001b[0m \u001b[1;33m=\u001b[0m \u001b[0mos\u001b[0m\u001b[1;33m.\u001b[0m\u001b[0mpath\u001b[0m\u001b[1;33m.\u001b[0m\u001b[0mjoin\u001b[0m\u001b[1;33m(\u001b[0m\u001b[0mKAGGLE_PATH\u001b[0m\u001b[1;33m,\u001b[0m\u001b[0mimage_name\u001b[0m\u001b[1;33m)\u001b[0m\u001b[1;33m\u001b[0m\u001b[1;33m\u001b[0m\u001b[0m\n\u001b[0;32m      7\u001b[0m     \u001b[0mtarget_path\u001b[0m \u001b[1;33m=\u001b[0m \u001b[0mos\u001b[0m\u001b[1;33m.\u001b[0m\u001b[0mpath\u001b[0m\u001b[1;33m.\u001b[0m\u001b[0mjoin\u001b[0m\u001b[1;33m(\u001b[0m\u001b[0mTARGET_NORMAL_DIR\u001b[0m\u001b[1;33m,\u001b[0m \u001b[0mimage_name\u001b[0m\u001b[1;33m)\u001b[0m\u001b[1;33m\u001b[0m\u001b[1;33m\u001b[0m\u001b[0m\n",
      "\u001b[1;31mIndexError\u001b[0m: list index out of range"
     ]
    }
   ],
   "source": [
    "import shutil\n",
    "random.shuffle(image_names)\n",
    "print('copying images...')\n",
    "for i in range(len(os.listdir('CovidDataset/Train/Covid'))):\n",
    "    image_name = image_names[i]\n",
    "    image_path = os.path.join(KAGGLE_PATH,image_name)\n",
    "    target_path = os.path.join(TARGET_NORMAL_DIR, image_name)\n",
    "    \n",
    "    shutil.copy2(image_path,target_path)\n",
    "\n",
    "print('images copied!')\n",
    "    "
   ]
  },
  {
   "cell_type": "code",
   "execution_count": 11,
   "metadata": {},
   "outputs": [
    {
     "name": "stdout",
     "output_type": "stream",
     "text": [
      "moving images...\n",
      "shifted\n"
     ]
    }
   ],
   "source": [
    "#creating validation set for normal\n",
    "train_norm_path = 'CovidDataset/Train/Normal'\n",
    "target_normal_validation_path = 'CovidDataset/val/Normal'\n",
    "if not  os.path.exists(target_normal_validation_path):\n",
    "    os.mkdir(target_normal_validation_path)\n",
    "norm_image_val_name = os.listdir(train_norm_path) \n",
    "random.shuffle(norm_image_val_name)\n",
    "print('moving images...')\n",
    "for i in range(40):\n",
    "    image_name = norm_image_val_name[i]\n",
    "    image_path = os.path.join(train_norm_path,image_name)\n",
    "    target_path = os.path.join(target_normal_validation_path, image_name)\n",
    "    \n",
    "    shutil.move(image_path,target_path)\n",
    "print('shifted')"
   ]
  },
  {
   "cell_type": "code",
   "execution_count": 12,
   "metadata": {},
   "outputs": [
    {
     "name": "stdout",
     "output_type": "stream",
     "text": [
      "moving images...\n",
      "shifted\n"
     ]
    }
   ],
   "source": [
    "#creating validation set for covid\n",
    "train_covid_path = 'CovidDataset/Train/Covid'\n",
    "target_covid_validation_path = 'CovidDataset/val/Covid'\n",
    "if not  os.path.exists(target_covid_validation_path):\n",
    "    os.mkdir(target_covid_validation_path)\n",
    "covid_image_val_name = os.listdir(train_covid_path) \n",
    "random.shuffle(norm_image_val_name)\n",
    "print('moving images...')\n",
    "for i in range(40):\n",
    "    image_name = covid_image_val_name[i]\n",
    "    image_path = os.path.join(train_covid_path,image_name)\n",
    "    target_path = os.path.join(target_covid_validation_path, image_name)\n",
    "    \n",
    "    shutil.move(image_path,target_path)\n",
    "print('shifted')"
   ]
  },
  {
   "cell_type": "code",
   "execution_count": 14,
   "metadata": {},
   "outputs": [
    {
     "name": "stdout",
     "output_type": "stream",
     "text": [
      "moving images...\n",
      "shifted\n"
     ]
    }
   ],
   "source": [
    "#creating test set for covid\n",
    "train_covid_path = 'CovidDataset/Train/Covid'\n",
    "target_covid_test_path = 'CovidDataset/Test/Covid'\n",
    "if not  os.path.exists(target_covid_validation_path):\n",
    "    os.mkdir(target_covid_test_path)\n",
    "covid_image_test_name = os.listdir(train_covid_path) \n",
    "random.shuffle(covid_image_test_name)\n",
    "print('moving images...')\n",
    "for i in range(40):\n",
    "    image_name = covid_image_test_name[i]\n",
    "    image_path = os.path.join(train_covid_path,image_name)\n",
    "    target_path = os.path.join(target_covid_test_path, image_name)\n",
    "    \n",
    "    shutil.move(image_path,target_path)\n",
    "print('shifted')"
   ]
  },
  {
   "cell_type": "code",
   "execution_count": 15,
   "metadata": {},
   "outputs": [],
   "source": [
    "## Data augumentation for normal x-ray data\n",
    "directory = \"CovidDataset/val/Normal/\"\n",
    "\n",
    "for filename in os.listdir(directory):\n",
    "    #img = image.load_img(\"CovidDataset/Train/Covid/01E392EE-69F9-4E33-BFCE-E5C968654078.jpeg\")\n",
    "    path = os.path.join(directory,filename)\n",
    "    img = image.load_img(path)\n",
    "    x = image.img_to_array(img)\n",
    "    x = x.reshape((1,) + x.shape)\n",
    "\n",
    "    i = 0\n",
    "    for batch in datagen.flow(x, batch_size = 1, save_to_dir = 'CovidDataset/val/Normal', save_prefix = 'Covid' + str(i), save_format = 'jpg'):\n",
    "        i = i +1\n",
    "        if i >=2:\n",
    "            break"
   ]
  },
  {
   "cell_type": "code",
   "execution_count": null,
   "metadata": {},
   "outputs": [],
   "source": []
  }
 ],
 "metadata": {
  "kernelspec": {
   "display_name": "Python [conda env:py3-TF2.0]",
   "language": "python",
   "name": "conda-env-py3-TF2.0-py"
  },
  "language_info": {
   "codemirror_mode": {
    "name": "ipython",
    "version": 3
   },
   "file_extension": ".py",
   "mimetype": "text/x-python",
   "name": "python",
   "nbconvert_exporter": "python",
   "pygments_lexer": "ipython3",
   "version": "3.7.7"
  }
 },
 "nbformat": 4,
 "nbformat_minor": 4
}
